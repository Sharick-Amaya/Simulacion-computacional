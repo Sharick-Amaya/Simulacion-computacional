{
  "nbformat": 4,
  "nbformat_minor": 0,
  "metadata": {
    "colab": {
      "name": "Laboratorio 3 - Análisis Estadístico de Datos Simulados - 3301.ipynb",
      "provenance": []
    },
    "kernelspec": {
      "name": "python3",
      "display_name": "Python 3"
    }
  },
  "cells": [
    {
      "cell_type": "markdown",
      "metadata": {
        "id": "6YodoSN0JaR1"
      },
      "source": [
        "# **Laboratorio 3 - Simulación Computacional 2020-I**\n",
        "\n",
        "##\"Análisis Estadístico de Datos Simulados\"\n",
        "\n",
        "##Sharik Natalia Amaya Rey - 160003301"
      ]
    },
    {
      "cell_type": "markdown",
      "metadata": {
        "id": "Uzej8hJ0J3L9"
      },
      "source": [
        "#Implementar:\n",
        "\n",
        "##1) La medida de desempeño de tiempo promedio en fila de los clientes (Xi) para una corrida de simulación i."
      ]
    },
    {
      "cell_type": "code",
      "metadata": {
        "id": "3lq4XIeaBVf2"
      },
      "source": [
        "import math\n",
        "import time\n",
        "\n",
        "semilla = 212121*int(round(time.time()))"
      ],
      "execution_count": 9,
      "outputs": []
    },
    {
      "cell_type": "code",
      "metadata": {
        "id": "Bv7EOqj3CtU1"
      },
      "source": [
        "def congruencialMixto():\n",
        "    global semilla\n",
        "    a = 134775813\n",
        "    c = 1\n",
        "    m = 2**32\n",
        "    x = (a * semilla + c) % m\n",
        "    U = x / m\n",
        "    semilla = x\n",
        "    return U"
      ],
      "execution_count": 10,
      "outputs": []
    },
    {
      "cell_type": "code",
      "metadata": {
        "id": "jjuaAlJxCvrJ"
      },
      "source": [
        "def exponencial(lam):\n",
        "    U = congruencialMixto()\n",
        "    return ((-1/lam) * math.log(1 - U))"
      ],
      "execution_count": 11,
      "outputs": []
    },
    {
      "cell_type": "code",
      "metadata": {
        "id": "5gpAxcXlDTbl",
        "outputId": "a0c5f889-32cc-4622-b549-14dcfb0541e3",
        "colab": {
          "base_uri": "https://localhost:8080/",
          "height": 34
        }
      },
      "source": [
        "M = 99999.0\n",
        "T = 40.0\n",
        "t, tsuc, Nll, Ns, n = 0, 0, 0, 0, 0\n",
        "tll, ts = M, M\n",
        "ll, s, serv = [], [], []\n",
        "Tp, t_med_sistem , t_med_cola = 0, 0, 0\n",
        "lam = 0.5\n",
        "\n",
        "def llegada(tsuc):\n",
        "    global t, n, Nll, Ns, tll, ll, ts, serv\n",
        "    t , n, Nll = tsuc, n + 1, Nll + 1\n",
        "    ll.append(t)\n",
        "    X = exponencial(lam)\n",
        "    if t + X < T:\n",
        "        tll = t + X\n",
        "    if n == 1:\n",
        "        Y = exponencial(lam)\n",
        "        ts = t + Y\n",
        "        serv.append(Y)\n",
        "\n",
        "def servidor(tsuc):\n",
        "    global t, n, Ns, s, ts, serv\n",
        "    t, n, Ns = tsuc, n - 1, Ns + 1\n",
        "    s.append(t)\n",
        "    if n > 0:\n",
        "        Y = exponencial(lam)\n",
        "        ts = t + Y\n",
        "        serv.append(Y)\n",
        "\n",
        "def mc():\n",
        "    global Tp, t_med_sistem, t_med_cola, tll, ts, tsuc, Nll\n",
        "    X = exponencial(lam)\n",
        "    if X > T:\n",
        "        Tp, t_med_sistem , t_med_cola = 0, 0, 0\n",
        "    else:\n",
        "        llegada(X)\n",
        "        while tll != M or ts != M:\n",
        "            if tll < ts:\n",
        "                tsuc, tll = tll, M\n",
        "                llegada(tsuc)\n",
        "            if ts < tll:\n",
        "                tsuc, ts = ts, M\n",
        "                servidor(tsuc)\n",
        "        Tp = abs(t - T)\n",
        "        acumulo1, acumulo2, ind = 0, 0, 0\n",
        "        while ind < Nll:\n",
        "            acumulo1 += s[ind] - ll[ind]\n",
        "            acumulo2 += s[ind] - ll[ind] - serv[ind]\n",
        "            ind += 1\n",
        "        t_med_sistem = acumulo1 / Nll\n",
        "        t_med_cola = acumulo2 / Nll\n",
        "    return t_med_cola\n",
        "print(\"El tiempo promedio en fila de los clientes es de:\", mc())"
      ],
      "execution_count": 12,
      "outputs": [
        {
          "output_type": "stream",
          "text": [
            "El tiempo promedio en fila de los clientes es de: 0.682925832950919\n"
          ],
          "name": "stdout"
        }
      ]
    },
    {
      "cell_type": "markdown",
      "metadata": {
        "id": "0PELx4q5J87c"
      },
      "source": [
        "##2) Implementar el método recursivo para calcular la media de la muestra y la varianza de la muestra."
      ]
    },
    {
      "cell_type": "code",
      "metadata": {
        "id": "TPCHAeDMDkOg"
      },
      "source": [
        "def calcular_promedio_varianza(x):\n",
        "  x_prom = [x[0]]\n",
        "  x_var = [0]\n",
        "  for j in range(len(x)-1):\n",
        "    xj_prom =  x_prom[j] + ((x[j+1] - x_prom[j])/(j + 2))\n",
        "    x_prom.append(xj_prom)\n",
        "    xj_var =  ((1-(1/(j+1)))*x_var[j]) + ((j+2)*((x_prom[j+1]-x_prom[j])**2))\n",
        "    x_var.append(xj_var)\n",
        "  return {\"sample_mean\": x_prom[-1], \"sample_variance\": x_var[-1]}"
      ],
      "execution_count": 13,
      "outputs": []
    },
    {
      "cell_type": "markdown",
      "metadata": {
        "id": "vrDRqdWtKGpf"
      },
      "source": [
        "##3) Calcular la media de la muestra (sample mean) y la varianza de la muestra (sample variance) para:"
      ]
    },
    {
      "cell_type": "markdown",
      "metadata": {
        "id": "vRXim_9oKKZl"
      },
      "source": [
        "##a. k=100 simulaciones"
      ]
    },
    {
      "cell_type": "code",
      "metadata": {
        "id": "-Z4eeoYzDmF2",
        "outputId": "de7696ba-0e34-4397-af3a-df17e2965cbc",
        "colab": {
          "base_uri": "https://localhost:8080/",
          "height": 34
        }
      },
      "source": [
        "X = []\n",
        "k=100\n",
        "for i in range(k):\n",
        "    t_med_cola = mc()\n",
        "    X.append(t_med_cola)\n",
        "resultado = calcular_promedio_varianza(X)\n",
        "print(\"Para K= {} simulaciones, los resultados son SAMPLE MEAN= {} y SAMPLE VARIANCE= {}\".format(k, resultado[\"sample_mean\"], resultado[\"sample_variance\"]))"
      ],
      "execution_count": 14,
      "outputs": [
        {
          "output_type": "stream",
          "text": [
            "Para K= 100 simulaciones, los resultados son SAMPLE MEAN= 5.909713641897069 y SAMPLE VARIANCE= 0.4004164171945738\n"
          ],
          "name": "stdout"
        }
      ]
    },
    {
      "cell_type": "markdown",
      "metadata": {
        "id": "4x8l6OXLKN6y"
      },
      "source": [
        "##b. k=1000 simulaciones"
      ]
    },
    {
      "cell_type": "code",
      "metadata": {
        "id": "JaPuKs2YDpIT",
        "outputId": "5b987652-1f50-4b1d-ba33-01098996af81",
        "colab": {
          "base_uri": "https://localhost:8080/",
          "height": 34
        }
      },
      "source": [
        "X = []\n",
        "k=1000\n",
        "for i in range(k):\n",
        "    t_med_cola = mc()\n",
        "    X.append(t_med_cola)\n",
        "resultado = calcular_promedio_varianza(X)\n",
        "print(\"Para K= {} simulaciones, los resultados son SAMPLE MEAN= {} y SAMPLE VARIANCE= {}\".format(k, resultado[\"sample_mean\"], resultado[\"sample_variance\"]))"
      ],
      "execution_count": 15,
      "outputs": [
        {
          "output_type": "stream",
          "text": [
            "Para K= 1000 simulaciones, los resultados son SAMPLE MEAN= 5.64313464724723 y SAMPLE VARIANCE= 0.005685318003776562\n"
          ],
          "name": "stdout"
        }
      ]
    },
    {
      "cell_type": "markdown",
      "metadata": {
        "id": "2uBuKUd2KV8_"
      },
      "source": [
        "##c. k=10000 simulaciones"
      ]
    },
    {
      "cell_type": "code",
      "metadata": {
        "id": "AbR9Ud3dDtTU",
        "outputId": "eb3e3bc3-9f7c-4430-d278-f02c9c5ccfbc",
        "colab": {
          "base_uri": "https://localhost:8080/",
          "height": 34
        }
      },
      "source": [
        "X = []\n",
        "k=10000\n",
        "for i in range(k):\n",
        "    t_med_cola = mc()\n",
        "    X.append(t_med_cola)\n",
        "resultado = calcular_promedio_varianza(X)\n",
        "print(\"Para K= {} simulaciones, los resultados son SAMPLE MEAN= {} y SAMPLE VARIANCE= {}\".format(k, resultado[\"sample_mean\"], resultado[\"sample_variance\"]))"
      ],
      "execution_count": 16,
      "outputs": [
        {
          "output_type": "stream",
          "text": [
            "Para K= 10000 simulaciones, los resultados son SAMPLE MEAN= 5.828507771596648 y SAMPLE VARIANCE= 0.006530178749441258\n"
          ],
          "name": "stdout"
        }
      ]
    }
  ]
}