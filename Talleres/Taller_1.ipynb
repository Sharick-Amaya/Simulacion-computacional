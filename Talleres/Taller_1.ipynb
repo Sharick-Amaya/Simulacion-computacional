{
  "nbformat": 4,
  "nbformat_minor": 0,
  "metadata": {
    "colab": {
      "name": "Taller_1.ipynb",
      "provenance": [],
      "collapsed_sections": []
    },
    "kernelspec": {
      "name": "python3",
      "display_name": "Python 3"
    }
  },
  "cells": [
    {
      "cell_type": "markdown",
      "metadata": {
        "id": "Rhnd7gir-jz-",
        "colab_type": "text"
      },
      "source": [
        "# **Taller 1 - Simulación Computacional 2020-I**\n",
        "\n",
        "#Sharik Natalia Amaya Rey - 160003301\n",
        "\n",
        "\n"
      ]
    },
    {
      "cell_type": "markdown",
      "metadata": {
        "id": "eae9HxiDQG8H",
        "colab_type": "text"
      },
      "source": [
        "## 1.\n",
        "Los siguientes datos muestran los tiempos de llegada y los tiempos de servicio que requerirá cada cliente, para los primeros 13 clientes en un sistema de servidor único. A su llegada, un cliente ingresa al servicio si el servidor está libre o se une a la línea de espera. Cuando el servidor completa el trabajo en un cliente, el siguiente en la fila (es decir, el que ha estado esperando por más tiempo) entra en servicio.\n",
        "\n",
        "\n",
        "| Tiempos de llegada  | 12 | 31 | 63 | 95 | 99 | 154 | 198 | 221 | 304 | 346 | 411 | 455 | 537|\n",
        "----------------------| |  |  |  |  |   |   |   |   |   |   |   |  |\n",
        "| Tiempos de servicio | 40 | 32 | 55 | 48 | 18 |  50 |  47 |  18 |  28 |  54 |  40 |  72 |  12|\n",
        "\n",
        "a) Determine los tiempos de salida de estos 13 clientes.<br>\n",
        "b) Repetir a) cuando hay dos servidores y un cliente puede ser atendido por cualquiera.<br>\n",
        "c) Repetir a) bajo el nuevo supuesto que cuando el servidor termina un servicio, el siguiente cliente en entrar al servidor es aquel quien ha estado esperando el menor tiempo."
      ]
    },
    {
      "cell_type": "code",
      "metadata": {
        "id": "PQvoAkyMfeJt",
        "colab_type": "code",
        "colab": {}
      },
      "source": [
        "tllegada = [12,31,63,95,99,154,198,221,304,346,411,455,537]\n",
        "tservicio = [40,32,55,48,18,50,47,18,28,54,40,72,12]\n",
        "tsalida1 = []\n",
        "tsalida2 = []\n",
        "tsalida3 = [0,0,0,0,0,0,0,0,0,0,0,0,0]\n",
        " \n",
        "#CASO A\n",
        "\n",
        "x = 0;\n",
        "\n",
        "for i in range(0,len(tllegada)):\n",
        "  t = tllegada[i]\n",
        "  if i > 0:\n",
        "    if tsalida1[i-1]>tllegada[i]:\n",
        "      t = tsalida1[i-1]\n",
        "  x = t+tservicio[i] \n",
        "  tsalida1.append(x)\n",
        " \n",
        "#CASO B\n",
        "\n",
        "x = 0\n",
        "\n",
        "for i in range(0,len(tllegada)):\n",
        "  t = tllegada[i]\n",
        "  if i>1:\n",
        "    if tsalida2[i-1]>tllegada[i] and tsalida2[i-2]>tllegada[i]:\n",
        "      if tsalida2[i-1]<tsalida2[i-2]:\n",
        "        t = tsalida2[i-1]\n",
        "      else:\n",
        "        t = tsalida2[i-2]\n",
        "  x = t+tservicio[i] \n",
        "  tsalida2.append(x)\n",
        " \n",
        "#CASO C\n",
        "\n",
        "cli = 0\n",
        "tsalida3[0] = tllegada[cli]+tservicio[cli]\n",
        "c = 0\n",
        "x = -1\n",
        "\n",
        "while c<len(tllegada)-1:\n",
        "  for j in range(len(tsalida3)-1,0,-1):\n",
        "    if (tsalida3[cli]>tllegada[j] and tsalida3[j]==0):\n",
        "      tsalida3[j] = tsalida3[cli]+tservicio[j]\n",
        "      cli = j\n",
        "      c = c+1\n",
        "      x = -1\n",
        "      break\n",
        "  if x>c:\n",
        "    for j in range(0,len(tllegada)):\n",
        "      if tsalida3[j] == 0:\n",
        "         tsalida3[j] = tllegada[j]+tservicio[j]  \n",
        "         cli = j\n",
        "         c = c+1\n",
        "         x = -1\n",
        "  x = x+1\n",
        "\n",
        "print (\"---------------------------------------------------------------------------------\")\n",
        "print (\"| %5s |  %-8s|  %-8s|   %-9s   |   %-9s   |   %-9s   |\"%('Cliente','Tiempo','Tiempo','Tiempo de','Tiempo de','Tiempo de') )\n",
        "print (\"| %5s   |  %-8s| %-9s| %-9s | %-10s | %-10s |\"%('','llegada','servicio','salida-Caso A','salida-Caso B','salida-Caso C') )\n",
        "print (\"---------------------------------------------------------------------------------\")\n",
        "\n",
        "for i in range(0,len(tllegada)):\n",
        "\n",
        "  #print(\"%d\\t%d\\t%d\\t%d\\t%d\\t%d\" % ((i+1),tllegada[i],tservicio[i],tsalida1[i],tsalida2[i],tsalida3[i]), sep=' ', end='\\n')\n",
        "  print (\"|    %-3d  |    %-4d  |    %-4d  |      %-4d     |      %-4d     |      %-4d     |\"% ((i+1),tllegada[i],tservicio[i],tsalida1[i],tsalida2[i],tsalida3[i]))\n",
        "  print (\"---------------------------------------------------------------------------------\")\n",
        "\n"
      ],
      "execution_count": null,
      "outputs": []
    },
    {
      "cell_type": "markdown",
      "metadata": {
        "id": "N4u5w3ObvSrr",
        "colab_type": "text"
      },
      "source": [
        "## 2.\n",
        "Implementar el método de cuadrados medios (Mid-Square) para cualquier numero de de cifras."
      ]
    },
    {
      "cell_type": "code",
      "metadata": {
        "id": "u59S6W7QpbRJ",
        "colab_type": "code",
        "colab": {}
      },
      "source": [
        "import math\n",
        "\n",
        "x0 = int(input(\"Escriba el valor de la semilla: \"))\n",
        "x1 = int(input(\"Escriba la cantidad de datos que desee generar: \"))\n",
        "\n",
        "def midSquare(semilla, cantidad):\n",
        "    if (len(str(semilla)) % 2 == 0):\n",
        "        for i in range(cantidad):\n",
        "            x2 = str(int(math.pow(semilla, 2)))\n",
        "            if (len(x2) % 2 != 0):\n",
        "                x2= \"0\" + x2\n",
        "            mitad = int(len(str(x2)) / 2)\n",
        "            #print(\"mitad :\",mitad) este x solo sirve para semillas de 4 digitos\n",
        "            x = x2[mitad - 2] + x2[mitad-1]+x2[mitad]+x2[mitad+1]\n",
        "            u = \"0.\" + x\n",
        "            print(\"u\",i+1,\"=\",u)\n",
        "            semilla = int(x)\n",
        "        print()    \n",
        "    else:\n",
        "        print(\"Ingrese un número de 2n cifras.\")\n",
        "    \n",
        "midSquare(x0, x1)"
      ],
      "execution_count": null,
      "outputs": []
    },
    {
      "cell_type": "markdown",
      "metadata": {
        "id": "aRS-Mj1pcjCF",
        "colab_type": "text"
      },
      "source": [
        "## 3.\n",
        "Si $x_0=5$ y\n",
        "$$ x_n = 3x_{n-1} \\mod 150 $$\n",
        "\n",
        "encuentre $x_1,...,x_{10}$"
      ]
    },
    {
      "cell_type": "code",
      "metadata": {
        "id": "eMRkbSDhfdcZ",
        "colab_type": "code",
        "colab": {}
      },
      "source": [
        "a = 3\n",
        "m = 150\n",
        "x0 = 5\n",
        "cantidad=10\n",
        "xn=x0\n",
        "\n",
        "for i in range (cantidad):\n",
        "    xsig=(a*xn)%m\n",
        "    xn=xsig\n",
        "    print(\"x\",i+1,\"=\",xsig)"
      ],
      "execution_count": null,
      "outputs": []
    },
    {
      "cell_type": "markdown",
      "metadata": {
        "id": "ycKN0yXRd0wD",
        "colab_type": "text"
      },
      "source": [
        "## 4.\n",
        "Si $ x_0=3 $ y\n",
        "$$ x_n = (5x_{n-1}+7) \\mod 200 $$\n",
        "\n",
        "encuentre $x_1,...,x_{10}$"
      ]
    },
    {
      "cell_type": "code",
      "metadata": {
        "id": "IQSVgbpifc9T",
        "colab_type": "code",
        "colab": {}
      },
      "source": [
        "a = 5\n",
        "m = 200\n",
        "x0 = 3\n",
        "cantidad=10\n",
        "xn=x0\n",
        "\n",
        "for i in range (cantidad):\n",
        "  xsig=((a*xn)+7)%m\n",
        "  xn=xsig\n",
        "  print(\"x\",i+1,\"=\",xsig)"
      ],
      "execution_count": null,
      "outputs": []
    },
    {
      "cell_type": "markdown",
      "metadata": {
        "id": "R4qXgEoJG_Uv",
        "colab_type": "text"
      },
      "source": [
        "## 5.\n",
        "Si $x_0=137$ y\n",
        "$$x_n = (15x_{n-1}+3) \\mod 21$$\n",
        "\n",
        "**a)** encuentre $x_1,...,x_{100}$"
      ]
    },
    {
      "cell_type": "code",
      "metadata": {
        "id": "hgXiAOH3bo7f",
        "colab_type": "code",
        "colab": {}
      },
      "source": [
        "a = 15\n",
        "m = 21\n",
        "x0 = 137\n",
        "cantidad = 100\n",
        "xn = x0\n",
        "memoria = []\n",
        "\n",
        "for i in range (cantidad):\n",
        "  xsig=((a*xn)+3)%m\n",
        "  xn=xsig\n",
        "  print(\"x\",i+1,\"=\",xsig)\n",
        "  memoria.append(xsig)"
      ],
      "execution_count": null,
      "outputs": []
    },
    {
      "cell_type": "markdown",
      "metadata": {
        "id": "cvNyzsN9-gqe",
        "colab_type": "text"
      },
      "source": [
        "**b)** el tamaño del ciclo (si lo tiene)"
      ]
    },
    {
      "cell_type": "code",
      "metadata": {
        "id": "FUHpUaHz-2ei",
        "colab_type": "code",
        "colab": {}
      },
      "source": [
        "cantidad = len(memoria)\n",
        "ciclo = False\n",
        "for i in range(cantidad):\n",
        "    for j in range(i + 1, cantidad):\n",
        "        if (memoria[i] == memoria[j]):\n",
        "            ciclo = True\n",
        "            print(\"El tamaño del ciclo es de\", j-i)\n",
        "            break\n",
        "    if (ciclo):\n",
        "        break\n",
        "if (cantidad-1== i):\n",
        "    print(\"No se ha encontrado un ciclo con esta cantidad de iteraciones.\")"
      ],
      "execution_count": null,
      "outputs": []
    },
    {
      "cell_type": "markdown",
      "metadata": {
        "id": "zdWnWWHhsl0f",
        "colab_type": "text"
      },
      "source": [
        "## 6.\n",
        "Si $ x_0=7 $ y\n",
        "$$ x_n = (5x_{n-1}+3) \\mod 33$$\n",
        "\n",
        "**a)** encuentre $u_1,...,u_{100}$"
      ]
    },
    {
      "cell_type": "code",
      "metadata": {
        "id": "UE2d7o_2tCMV",
        "colab_type": "code",
        "colab": {}
      },
      "source": [
        "a = 5\n",
        "m = 33\n",
        "x0 = 7\n",
        "cantidad = 100\n",
        "xn=x0\n",
        "memoria = []\n",
        "\n",
        "for i in range (cantidad):\n",
        "  xsig=((a*xn)+3)%m\n",
        "  xn=xsig\n",
        "  usig=xn/m\n",
        "  un=usig\n",
        "  print(\"u\",i+1,\"=\",usig)\n",
        "  memoria.append(usig)"
      ],
      "execution_count": null,
      "outputs": []
    },
    {
      "cell_type": "markdown",
      "metadata": {
        "id": "RlNYVdyGtCm5",
        "colab_type": "text"
      },
      "source": [
        "**b)** el tamaño del ciclo (si lo tiene)"
      ]
    },
    {
      "cell_type": "code",
      "metadata": {
        "id": "iAdmuHAAt-qb",
        "colab_type": "code",
        "colab": {}
      },
      "source": [
        "cantidad = len(memoria)\n",
        "ciclo = False\n",
        "for i in range(cantidad):\n",
        "    for j in range(i + 1, cantidad):\n",
        "        if (memoria[i] == memoria[j]):\n",
        "            ciclo = True\n",
        "            print(\"El tamaño del ciclo es de\", j-i)\n",
        "            break\n",
        "    if (ciclo):\n",
        "        break\n",
        "if (cantidad-1== i):\n",
        "    print(\"No se ha encontrado un ciclo con esta cantidad de iteraciones.\")"
      ],
      "execution_count": null,
      "outputs": []
    },
    {
      "cell_type": "markdown",
      "metadata": {
        "id": "3PRnEgWTt_Jg",
        "colab_type": "text"
      },
      "source": [
        "## 7.\n",
        "Si $ x_0=123 $ y\n",
        "$$ x_n = (17x_{n-1}+3) \\mod 16 $$\n",
        "\n",
        "**a)** encuentre $u_1,...,u_{100}$"
      ]
    },
    {
      "cell_type": "code",
      "metadata": {
        "id": "7WiQHBIKuVrO",
        "colab_type": "code",
        "colab": {}
      },
      "source": [
        "a = 17\n",
        "m = 16\n",
        "x0 = 123\n",
        "cantidad = 100\n",
        "xn = x0\n",
        "memoria = []\n",
        "\n",
        "for i in range (cantidad):\n",
        "  xsig=((a*xn)+3)%m\n",
        "  xn=xsig\n",
        "  usig=xn/m\n",
        "  un=usig\n",
        "  print(\"u\",i+1,\"=\",usig)\n",
        "  memoria.append(usig)"
      ],
      "execution_count": null,
      "outputs": []
    },
    {
      "cell_type": "markdown",
      "metadata": {
        "id": "aK_uyM2nuWGe",
        "colab_type": "text"
      },
      "source": [
        "**b)** el tamaño del ciclo (si lo tiene)"
      ]
    },
    {
      "cell_type": "code",
      "metadata": {
        "id": "aq2NrdxduW3O",
        "colab_type": "code",
        "colab": {}
      },
      "source": [
        "cantidad = len(memoria)\n",
        "ciclo = False\n",
        "for i in range(cantidad):\n",
        "    for j in range(i + 1, cantidad):\n",
        "        if (memoria[i] == memoria[j]):\n",
        "            ciclo = True\n",
        "            print(\"El tamaño del ciclo es de\", j-i)\n",
        "            break\n",
        "    if (ciclo):\n",
        "        break\n",
        "if (cantidad-1== i):\n",
        "    print(\"No se ha encontrado un ciclo con esta cantidad de iteraciones.\")"
      ],
      "execution_count": null,
      "outputs": []
    },
    {
      "cell_type": "markdown",
      "metadata": {
        "id": "1KkIOtVzHL_w",
        "colab_type": "text"
      },
      "source": [
        "## 8.\n",
        "Dados los siguientes valores de la distribución de probabilidad discreta de la variable aleatoria $X$ de un dado de 12 lados: $X = {1,2,3,4,5,6,7,8,9,10,11,12}$, $p(X) = {0.06,0.05,0.05,0.04,0.02,0.02,0.05,0.07,0.2,0.25,0.1,0.09}$, ¿Qué valores retornaría el generador de variables aleatorias por el método de la inversión si los números aleatorios generados son: $U = {0.6996, 0.0318, 0.6344, 0.1708, 0.6865, 0.1573, 0.9454, 0.8211, 0.9102, 0.2579}$?"
      ]
    },
    {
      "cell_type": "code",
      "metadata": {
        "id": "yT367Lj-GCEn",
        "colab_type": "code",
        "colab": {}
      },
      "source": [
        "x = [1,2,3,4,5,6,7,8,9,10,11,12]\n",
        "px = [0.06,0.05,0.05,0.04,0.2,0.02,0.05,0.07,0.2,0.25,0.1,0.09]\n",
        "u = [0.6996,0.0318,0.6344,0.1708,0.6865,0.1573,0.9454,0.8211,0.9102,0.2579]\n",
        "\n",
        "def distribución_acumulada(px):\n",
        "  \n",
        "    cont = 0\n",
        "    px_acumulada=[]\n",
        "    for cont in range(len(px)):\n",
        "        if cont == 0:\n",
        "            px_acumulada.append(px[cont])\n",
        "        else:\n",
        "            px_acumulada.append(px[cont] + px_acumulada[cont - 1])\n",
        "    return px_acumulada\n",
        "\n",
        "def inversión():\n",
        "    \n",
        "    aleatorias = []\n",
        "    px_acumulada=distribución_acumulada(px)\n",
        "    cont = i= 0\n",
        "    \n",
        "    for cont in range(len(u)):\n",
        "        for i in range(len(px)):\n",
        "            if u[cont] < px_acumulada[i]:\n",
        "                aleatorias.append(x[i])\n",
        "                break    \n",
        "    cont = 0\n",
        "    print (\"Los valores retornados son: \",aleatorias)\n",
        "\n",
        "inversión()"
      ],
      "execution_count": null,
      "outputs": []
    },
    {
      "cell_type": "markdown",
      "metadata": {
        "id": "Y4Ct4DYjrwZh",
        "colab_type": "text"
      },
      "source": [
        "## 9.\n",
        "Implememente la técnica de aceptación y rechazo para la generación de variables aleatorias.\n",
        "\n",
        "**a)** Use la técnica de aceptación y rechazo implementada para la generación de valores aleatorios de la distribución de probabilidad discreta de la suma de la cara de dos dados.<br>\n",
        "**b)** Compare con el método de la transformada inversa generando 50000 valores aleatorios con la misma distribución de probabilidad discreta midiendo el tiempo que toma por cada método generar la misma cantidad de valores aleatorios."
      ]
    },
    {
      "cell_type": "code",
      "metadata": {
        "id": "IUrE7F7T28Ra",
        "colab_type": "code",
        "colab": {}
      },
      "source": [
        ""
      ],
      "execution_count": null,
      "outputs": []
    },
    {
      "cell_type": "markdown",
      "metadata": {
        "id": "s_d8nqQP6Y7y",
        "colab_type": "text"
      },
      "source": [
        "## 10.\n",
        "Implemente el ejemplo de simulación Ad Hoc de clientes atendidos por un cajero de un banco del Taller 0 generando las variables aleatorias discretas tanto del número de minutos entre las llegadas de un cliente y otro al banco ($X$), así como del numero de minutos que le toma al cajero atender un cliente ($Y$). \n",
        "$X$ es una distribución de Poisson con $\\lambda = 5$\n",
        "$Y$ es una distribución Binomial con $n=20$ y $p=0.4$"
      ]
    },
    {
      "cell_type": "code",
      "metadata": {
        "id": "zUbhD7zu-kV9",
        "colab_type": "code",
        "colab": {}
      },
      "source": [
        ""
      ],
      "execution_count": null,
      "outputs": []
    }
  ]
}