{
  "nbformat": 4,
  "nbformat_minor": 0,
  "metadata": {
    "colab": {
      "name": "Copia de 1erParcial.ipynb",
      "provenance": [],
      "collapsed_sections": []
    },
    "kernelspec": {
      "name": "python3",
      "display_name": "Python 3"
    }
  },
  "cells": [
    {
      "cell_type": "markdown",
      "metadata": {
        "id": "8ZmASnzE4maa",
        "colab_type": "text"
      },
      "source": [
        "## 1er Parcial - Simulación Computacional 2020-I"
      ]
    },
    {
      "cell_type": "markdown",
      "metadata": {
        "id": "SzFIvgaS_4qX",
        "colab_type": "text"
      },
      "source": [
        "## 1.  (1.0 punto)\n",
        "Para los siguientes generadores congruenciales mixtos encuentre $u_1,...,u_{100}$ y el tamaño del ciclo (si lo tiene)\n",
        "\n",
        "**a)** $x_0=93, x_n = (14x_{n-1}+9) \\mod 127$\n"
      ]
    },
    {
      "cell_type": "code",
      "metadata": {
        "id": "Iwv2_dxlA4au",
        "colab_type": "code",
        "colab": {
          "base_uri": "https://localhost:8080/",
          "height": 1000
        },
        "outputId": "cb2d0144-7320-4683-80a3-7a9cf7760e6d"
      },
      "source": [
        "a = 14\n",
        "m = 127\n",
        "x0 = 93\n",
        "cantidad = 100\n",
        "xn=x0\n",
        "memoria = []\n",
        "\n",
        "for i in range (cantidad):\n",
        "  xsig=((a*xn)+9)%m\n",
        "  xn=xsig\n",
        "  usig=xn/m\n",
        "  un=usig\n",
        "  print(\"u\",i+1,\"=\",usig)\n",
        "  memoria.append(usig)"
      ],
      "execution_count": 1,
      "outputs": [
        {
          "output_type": "stream",
          "text": [
            "u 1 = 0.3228346456692913\n",
            "u 2 = 0.5905511811023622\n",
            "u 3 = 0.33858267716535434\n",
            "u 4 = 0.8110236220472441\n",
            "u 5 = 0.4251968503937008\n",
            "u 6 = 0.023622047244094488\n",
            "u 7 = 0.4015748031496063\n",
            "u 8 = 0.6929133858267716\n",
            "u 9 = 0.7716535433070866\n",
            "u 10 = 0.8740157480314961\n",
            "u 11 = 0.30708661417322836\n",
            "u 12 = 0.3700787401574803\n",
            "u 13 = 0.25196850393700787\n",
            "u 14 = 0.5984251968503937\n",
            "u 15 = 0.44881889763779526\n",
            "u 16 = 0.3543307086614173\n",
            "u 17 = 0.031496062992125984\n",
            "u 18 = 0.5118110236220472\n",
            "u 19 = 0.23622047244094488\n",
            "u 20 = 0.3779527559055118\n",
            "u 21 = 0.36220472440944884\n",
            "u 22 = 0.14173228346456693\n",
            "u 23 = 0.05511811023622047\n",
            "u 24 = 0.84251968503937\n",
            "u 25 = 0.8661417322834646\n",
            "u 26 = 0.1968503937007874\n",
            "u 27 = 0.8267716535433071\n",
            "u 28 = 0.6456692913385826\n",
            "u 29 = 0.11023622047244094\n",
            "u 30 = 0.6141732283464567\n",
            "u 31 = 0.6692913385826772\n",
            "u 32 = 0.4409448818897638\n",
            "u 33 = 0.2440944881889764\n",
            "u 34 = 0.4881889763779528\n",
            "u 35 = 0.905511811023622\n",
            "u 36 = 0.7480314960629921\n",
            "u 37 = 0.5433070866141733\n",
            "u 38 = 0.6771653543307087\n",
            "u 39 = 0.5511811023622047\n",
            "u 40 = 0.7874015748031497\n",
            "u 41 = 0.09448818897637795\n",
            "u 42 = 0.3937007874015748\n",
            "u 43 = 0.5826771653543307\n",
            "u 44 = 0.2283464566929134\n",
            "u 45 = 0.2677165354330709\n",
            "u 46 = 0.8188976377952756\n",
            "u 47 = 0.5354330708661418\n",
            "u 48 = 0.5669291338582677\n",
            "u 49 = 0.007874015748031496\n",
            "u 50 = 0.18110236220472442\n",
            "u 51 = 0.6062992125984252\n",
            "u 52 = 0.5590551181102362\n",
            "u 53 = 0.8976377952755905\n",
            "u 54 = 0.6377952755905512\n",
            "u 55 = 0.0\n",
            "u 56 = 0.07086614173228346\n",
            "u 57 = 0.06299212598425197\n",
            "u 58 = 0.952755905511811\n",
            "u 59 = 0.4094488188976378\n",
            "u 60 = 0.8031496062992126\n",
            "u 61 = 0.31496062992125984\n",
            "u 62 = 0.48031496062992124\n",
            "u 63 = 0.7952755905511811\n",
            "u 64 = 0.2047244094488189\n",
            "u 65 = 0.937007874015748\n",
            "u 66 = 0.1889763779527559\n",
            "u 67 = 0.7165354330708661\n",
            "u 68 = 0.10236220472440945\n",
            "u 69 = 0.5039370078740157\n",
            "u 70 = 0.12598425196850394\n",
            "u 71 = 0.8346456692913385\n",
            "u 72 = 0.7559055118110236\n",
            "u 73 = 0.6535433070866141\n",
            "u 74 = 0.2204724409448819\n",
            "u 75 = 0.15748031496062992\n",
            "u 76 = 0.2755905511811024\n",
            "u 77 = 0.9291338582677166\n",
            "u 78 = 0.07874015748031496\n",
            "u 79 = 0.1732283464566929\n",
            "u 80 = 0.49606299212598426\n",
            "u 81 = 0.015748031496062992\n",
            "u 82 = 0.29133858267716534\n",
            "u 83 = 0.14960629921259844\n",
            "u 84 = 0.16535433070866143\n",
            "u 85 = 0.3858267716535433\n",
            "u 86 = 0.47244094488188976\n",
            "u 87 = 0.6850393700787402\n",
            "u 88 = 0.6614173228346457\n",
            "u 89 = 0.33070866141732286\n",
            "u 90 = 0.7007874015748031\n",
            "u 91 = 0.8818897637795275\n",
            "u 92 = 0.41732283464566927\n",
            "u 93 = 0.9133858267716536\n",
            "u 94 = 0.8582677165354331\n",
            "u 95 = 0.08661417322834646\n",
            "u 96 = 0.28346456692913385\n",
            "u 97 = 0.03937007874015748\n",
            "u 98 = 0.6220472440944882\n",
            "u 99 = 0.7795275590551181\n",
            "u 100 = 0.984251968503937\n"
          ],
          "name": "stdout"
        }
      ]
    },
    {
      "cell_type": "code",
      "metadata": {
        "id": "SgAr6VX-Hpvj",
        "colab_type": "code",
        "colab": {
          "base_uri": "https://localhost:8080/",
          "height": 34
        },
        "outputId": "9d616ffa-44a4-432f-95ea-41079e6efa10"
      },
      "source": [
        "cantidad = len(memoria)\n",
        "ciclo = False\n",
        "for i in range(cantidad):\n",
        "    for j in range(i + 1, cantidad):\n",
        "        if (memoria[i] == memoria[j]):\n",
        "            ciclo = True\n",
        "            print(\"El tamaño del ciclo es de: \", j-i)\n",
        "            break\n",
        "    if (ciclo):\n",
        "        break\n",
        "if (cantidad-1== i):\n",
        "    print(\"No se ha encontrado un ciclo.\")"
      ],
      "execution_count": 2,
      "outputs": [
        {
          "output_type": "stream",
          "text": [
            "No se ha encontrado un ciclo.\n"
          ],
          "name": "stdout"
        }
      ]
    },
    {
      "cell_type": "markdown",
      "metadata": {
        "id": "YJ9uMhemA48M",
        "colab_type": "text"
      },
      "source": [
        "**b)** $x_0=123, x_n = (191x_{n-1}) \\mod 3173$"
      ]
    },
    {
      "cell_type": "code",
      "metadata": {
        "id": "MQQMwNdRA9hX",
        "colab_type": "code",
        "colab": {
          "base_uri": "https://localhost:8080/",
          "height": 1000
        },
        "outputId": "671d286a-bd42-47dd-98bf-dae40bfdb8e1"
      },
      "source": [
        "a = 191\n",
        "m = 3173\n",
        "x0 = 123\n",
        "cantidad = 100\n",
        "xn=x0\n",
        "memoria = []\n",
        "\n",
        "for i in range (cantidad):\n",
        "  xsig=((a*xn))%m\n",
        "  xn=xsig\n",
        "  usig=xn/m\n",
        "  un=usig\n",
        "  print(\"u\",i+1,\"=\",usig)\n",
        "  memoria.append(usig)"
      ],
      "execution_count": 3,
      "outputs": [
        {
          "output_type": "stream",
          "text": [
            "u 1 = 0.40403403718878034\n",
            "u 2 = 0.1705011030570438\n",
            "u 3 = 0.5657106838953672\n",
            "u 4 = 0.05074062401512764\n",
            "u 5 = 0.6914591868893791\n",
            "u 6 = 0.06870469587141506\n",
            "u 7 = 0.12259691144027735\n",
            "u 8 = 0.41601008509297194\n",
            "u 9 = 0.4579262527576426\n",
            "u 10 = 0.4639142767097384\n",
            "u 11 = 0.6076268515600378\n",
            "u 12 = 0.05672864796722345\n",
            "u 13 = 0.8351717617396786\n",
            "u 14 = 0.5178064922786006\n",
            "u 15 = 0.9010400252127324\n",
            "u 16 = 0.0986448156318941\n",
            "u 17 = 0.8411597856917743\n",
            "u 18 = 0.6615190671289001\n",
            "u 19 = 0.3501418216199181\n",
            "u 20 = 0.8770879294043492\n",
            "u 21 = 0.5237945162306965\n",
            "u 22 = 0.04475260006303183\n",
            "u 23 = 0.5477466120390797\n",
            "u 24 = 0.6196028994642294\n",
            "u 25 = 0.3441537976678222\n",
            "u 26 = 0.7333753545540498\n",
            "u 27 = 0.07469271982351088\n",
            "u 28 = 0.2663094862905767\n",
            "u 29 = 0.8651118815001576\n",
            "u 30 = 0.2363693665300977\n",
            "u 31 = 0.14654900724866057\n",
            "u 32 = 0.9908603844941696\n",
            "u 33 = 0.2543334383863851\n",
            "u 34 = 0.5776867317995588\n",
            "u 35 = 0.3381657737157264\n",
            "u 36 = 0.5896627797037504\n",
            "u 37 = 0.6255909234163253\n",
            "u 38 = 0.48786637251812165\n",
            "u 39 = 0.18247715096123543\n",
            "u 40 = 0.853135833595966\n",
            "u 41 = 0.9489442168294989\n",
            "u 42 = 0.2483454144342893\n",
            "u 43 = 0.4339741569492594\n",
            "u 44 = 0.8890639773085408\n",
            "u 45 = 0.8112196659312954\n",
            "u 46 = 0.9429561928774031\n",
            "u 47 = 0.10463283958398992\n",
            "u 48 = 0.9848723605420737\n",
            "u 49 = 0.11062086353608572\n",
            "u 50 = 0.12858493539237315\n",
            "u 51 = 0.5597226599432713\n",
            "u 52 = 0.9070280491648283\n",
            "u 53 = 0.2423573904821935\n",
            "u 54 = 0.29026158209895997\n",
            "u 55 = 0.4399621809013552\n",
            "u 56 = 0.03277655215884021\n",
            "u 57 = 0.2603214623384809\n",
            "u 58 = 0.7213993066498582\n",
            "u 59 = 0.787267570122912\n",
            "u 60 = 0.3681058934762055\n",
            "u 61 = 0.3082256539552474\n",
            "u 62 = 0.8710999054522534\n",
            "u 63 = 0.3800819413803971\n",
            "u 64 = 0.5956508036558462\n",
            "u 65 = 0.7693034982666247\n",
            "u 66 = 0.9369681689253073\n",
            "u 67 = 0.9609202647336905\n",
            "u 68 = 0.5357705641348881\n",
            "u 69 = 0.3321777497636306\n",
            "u 70 = 0.445950204853451\n",
            "u 71 = 0.17648912700913963\n",
            "u 72 = 0.7094232587456666\n",
            "u 73 = 0.49984242042231325\n",
            "u 74 = 0.46990230066183425\n",
            "u 75 = 0.7513394264103372\n",
            "u 76 = 0.505830444374409\n",
            "u 77 = 0.6136148755121337\n",
            "u 78 = 0.20044122281752286\n",
            "u 79 = 0.28427355814686417\n",
            "u 80 = 0.29624960605105577\n",
            "u 81 = 0.5836747557516546\n",
            "u 82 = 0.48187834856602585\n",
            "u 83 = 0.03876457611093602\n",
            "u 84 = 0.40403403718878034\n",
            "u 85 = 0.1705011030570438\n",
            "u 86 = 0.5657106838953672\n",
            "u 87 = 0.05074062401512764\n",
            "u 88 = 0.6914591868893791\n",
            "u 89 = 0.06870469587141506\n",
            "u 90 = 0.12259691144027735\n",
            "u 91 = 0.41601008509297194\n",
            "u 92 = 0.4579262527576426\n",
            "u 93 = 0.4639142767097384\n",
            "u 94 = 0.6076268515600378\n",
            "u 95 = 0.05672864796722345\n",
            "u 96 = 0.8351717617396786\n",
            "u 97 = 0.5178064922786006\n",
            "u 98 = 0.9010400252127324\n",
            "u 99 = 0.0986448156318941\n",
            "u 100 = 0.8411597856917743\n"
          ],
          "name": "stdout"
        }
      ]
    },
    {
      "cell_type": "code",
      "metadata": {
        "id": "eGEoNWjWIq2n",
        "colab_type": "code",
        "colab": {
          "base_uri": "https://localhost:8080/",
          "height": 34
        },
        "outputId": "f3c419fa-2b8f-41e8-b761-e6e1553a3a26"
      },
      "source": [
        "cantidad = len(memoria)\n",
        "ciclo = False\n",
        "for i in range(cantidad):\n",
        "    for j in range(i + 1, cantidad):\n",
        "        if (memoria[i] == memoria[j]):\n",
        "            ciclo = True\n",
        "            print(\"El tamaño del ciclo es de: \", j-i)\n",
        "            break\n",
        "    if (ciclo):\n",
        "        break\n",
        "if (cantidad-1== i):\n",
        "    print(\"No se ha encontrado un ciclo.\")"
      ],
      "execution_count": 4,
      "outputs": [
        {
          "output_type": "stream",
          "text": [
            "El tamaño del ciclo es de:  83\n"
          ],
          "name": "stdout"
        }
      ]
    },
    {
      "cell_type": "markdown",
      "metadata": {
        "id": "t7BKvhEPA91k",
        "colab_type": "text"
      },
      "source": [
        "**c)** $x_0=7, x_n = (5x_{n-1}+3) \\mod 33$"
      ]
    },
    {
      "cell_type": "code",
      "metadata": {
        "id": "j4tMo8eFA-fo",
        "colab_type": "code",
        "colab": {
          "base_uri": "https://localhost:8080/",
          "height": 1000
        },
        "outputId": "4db1bccd-5a73-4066-96ff-6745aa000994"
      },
      "source": [
        "a = 5\n",
        "m = 33\n",
        "x0 = 7\n",
        "cantidad = 100\n",
        "xn=x0\n",
        "memoria = []\n",
        "\n",
        "for i in range (cantidad):\n",
        "  xsig=((a*xn)+3)%m\n",
        "  xn=xsig\n",
        "  usig=xn/m\n",
        "  un=usig\n",
        "  print(\"u\",i+1,\"=\",usig)\n",
        "  memoria.append(usig)"
      ],
      "execution_count": 5,
      "outputs": [
        {
          "output_type": "stream",
          "text": [
            "u 1 = 0.15151515151515152\n",
            "u 2 = 0.8484848484848485\n",
            "u 3 = 0.3333333333333333\n",
            "u 4 = 0.7575757575757576\n",
            "u 5 = 0.8787878787878788\n",
            "u 6 = 0.48484848484848486\n",
            "u 7 = 0.5151515151515151\n",
            "u 8 = 0.6666666666666666\n",
            "u 9 = 0.42424242424242425\n",
            "u 10 = 0.21212121212121213\n",
            "u 11 = 0.15151515151515152\n",
            "u 12 = 0.8484848484848485\n",
            "u 13 = 0.3333333333333333\n",
            "u 14 = 0.7575757575757576\n",
            "u 15 = 0.8787878787878788\n",
            "u 16 = 0.48484848484848486\n",
            "u 17 = 0.5151515151515151\n",
            "u 18 = 0.6666666666666666\n",
            "u 19 = 0.42424242424242425\n",
            "u 20 = 0.21212121212121213\n",
            "u 21 = 0.15151515151515152\n",
            "u 22 = 0.8484848484848485\n",
            "u 23 = 0.3333333333333333\n",
            "u 24 = 0.7575757575757576\n",
            "u 25 = 0.8787878787878788\n",
            "u 26 = 0.48484848484848486\n",
            "u 27 = 0.5151515151515151\n",
            "u 28 = 0.6666666666666666\n",
            "u 29 = 0.42424242424242425\n",
            "u 30 = 0.21212121212121213\n",
            "u 31 = 0.15151515151515152\n",
            "u 32 = 0.8484848484848485\n",
            "u 33 = 0.3333333333333333\n",
            "u 34 = 0.7575757575757576\n",
            "u 35 = 0.8787878787878788\n",
            "u 36 = 0.48484848484848486\n",
            "u 37 = 0.5151515151515151\n",
            "u 38 = 0.6666666666666666\n",
            "u 39 = 0.42424242424242425\n",
            "u 40 = 0.21212121212121213\n",
            "u 41 = 0.15151515151515152\n",
            "u 42 = 0.8484848484848485\n",
            "u 43 = 0.3333333333333333\n",
            "u 44 = 0.7575757575757576\n",
            "u 45 = 0.8787878787878788\n",
            "u 46 = 0.48484848484848486\n",
            "u 47 = 0.5151515151515151\n",
            "u 48 = 0.6666666666666666\n",
            "u 49 = 0.42424242424242425\n",
            "u 50 = 0.21212121212121213\n",
            "u 51 = 0.15151515151515152\n",
            "u 52 = 0.8484848484848485\n",
            "u 53 = 0.3333333333333333\n",
            "u 54 = 0.7575757575757576\n",
            "u 55 = 0.8787878787878788\n",
            "u 56 = 0.48484848484848486\n",
            "u 57 = 0.5151515151515151\n",
            "u 58 = 0.6666666666666666\n",
            "u 59 = 0.42424242424242425\n",
            "u 60 = 0.21212121212121213\n",
            "u 61 = 0.15151515151515152\n",
            "u 62 = 0.8484848484848485\n",
            "u 63 = 0.3333333333333333\n",
            "u 64 = 0.7575757575757576\n",
            "u 65 = 0.8787878787878788\n",
            "u 66 = 0.48484848484848486\n",
            "u 67 = 0.5151515151515151\n",
            "u 68 = 0.6666666666666666\n",
            "u 69 = 0.42424242424242425\n",
            "u 70 = 0.21212121212121213\n",
            "u 71 = 0.15151515151515152\n",
            "u 72 = 0.8484848484848485\n",
            "u 73 = 0.3333333333333333\n",
            "u 74 = 0.7575757575757576\n",
            "u 75 = 0.8787878787878788\n",
            "u 76 = 0.48484848484848486\n",
            "u 77 = 0.5151515151515151\n",
            "u 78 = 0.6666666666666666\n",
            "u 79 = 0.42424242424242425\n",
            "u 80 = 0.21212121212121213\n",
            "u 81 = 0.15151515151515152\n",
            "u 82 = 0.8484848484848485\n",
            "u 83 = 0.3333333333333333\n",
            "u 84 = 0.7575757575757576\n",
            "u 85 = 0.8787878787878788\n",
            "u 86 = 0.48484848484848486\n",
            "u 87 = 0.5151515151515151\n",
            "u 88 = 0.6666666666666666\n",
            "u 89 = 0.42424242424242425\n",
            "u 90 = 0.21212121212121213\n",
            "u 91 = 0.15151515151515152\n",
            "u 92 = 0.8484848484848485\n",
            "u 93 = 0.3333333333333333\n",
            "u 94 = 0.7575757575757576\n",
            "u 95 = 0.8787878787878788\n",
            "u 96 = 0.48484848484848486\n",
            "u 97 = 0.5151515151515151\n",
            "u 98 = 0.6666666666666666\n",
            "u 99 = 0.42424242424242425\n",
            "u 100 = 0.21212121212121213\n"
          ],
          "name": "stdout"
        }
      ]
    },
    {
      "cell_type": "code",
      "metadata": {
        "id": "b7C_HlndIDtg",
        "colab_type": "code",
        "colab": {
          "base_uri": "https://localhost:8080/",
          "height": 34
        },
        "outputId": "5aac60bb-540d-4289-9442-430c8de968f7"
      },
      "source": [
        "cantidad = len(memoria)\n",
        "ciclo = False\n",
        "for i in range(cantidad):\n",
        "    for j in range(i + 1, cantidad):\n",
        "        if (memoria[i] == memoria[j]):\n",
        "            ciclo = True\n",
        "            print(\"El tamaño del ciclo es de: \", j-i)\n",
        "            break\n",
        "    if (ciclo):\n",
        "        break\n",
        "if (cantidad-1== i):\n",
        "    print(\"No se ha encontrado un ciclo.\")"
      ],
      "execution_count": 6,
      "outputs": [
        {
          "output_type": "stream",
          "text": [
            "El tamaño del ciclo es de:  10\n"
          ],
          "name": "stdout"
        }
      ]
    },
    {
      "cell_type": "markdown",
      "metadata": {
        "id": "EmgsDNW85jnA",
        "colab_type": "text"
      },
      "source": [
        "## 2.  (1.0 punto)\n",
        "Calcule el estadístico $\\chi^2$ para los siguientes generadores congruenciales mixtos a partir de la generación de $1000$ los valores pseudoaleatorios uniformes de $U(0,1)$: $u_1,...,u_{1000}$, para un $k=101$.\n",
        "\n",
        "**a)** $x_0=1791, x_n = (65539x_{n-1}) \\mod {2^{31}}$\n",
        "\n"
      ]
    },
    {
      "cell_type": "code",
      "metadata": {
        "id": "BDe4A3eOTgoE",
        "colab_type": "code",
        "colab": {}
      },
      "source": [
        "cantidad=1000\n",
        "\n",
        "def CongruencialMixto1(cantidad):\n",
        "  a = 65539\n",
        "  m = 2**31\n",
        "  x0 = 1791\n",
        "  xn=x0\n",
        "  memoria = []\n",
        "  \n",
        "  for i in range (cantidad):\n",
        "    xsig=((a*xn))%m\n",
        "    xn=xsig\n",
        "    usig=xn/m\n",
        "    un=usig\n",
        "    #print(\"u\",i+1,\"=\",usig)\n",
        "    memoria.append(usig)"
      ],
      "execution_count": 15,
      "outputs": []
    },
    {
      "cell_type": "code",
      "metadata": {
        "id": "3scZVcrOpCcG",
        "colab_type": "code",
        "colab": {
          "base_uri": "https://localhost:8080/",
          "height": 34
        },
        "outputId": "29f18367-c2d3-4a65-a660-63f1f37e0c53"
      },
      "source": [
        "def chiCuadrado(k,generador):\n",
        "    k = 101\n",
        "    ei = cantidad/k\n",
        "    f=[0]*k\n",
        "    suma = 0\n",
        "    for i in range(k):\n",
        "        suma += ((f[i] - ei) ** 2) / ei\n",
        "    return suma\n",
        "print(\"El valor Chi-cuadrado del generador congruencial es: \", chiCuadrado(101, CongruencialMixto1(cantidad)))"
      ],
      "execution_count": 16,
      "outputs": [
        {
          "output_type": "stream",
          "text": [
            "El valor Chi-cuadrado del generador congruencial es:  999.9999999999973\n"
          ],
          "name": "stdout"
        }
      ]
    },
    {
      "cell_type": "markdown",
      "metadata": {
        "id": "hFkasb9JThNF",
        "colab_type": "text"
      },
      "source": [
        "**b)** $x_0=6773, x_n = (75x_{n-1}) \\mod {2^{16} + 1}$"
      ]
    },
    {
      "cell_type": "code",
      "metadata": {
        "id": "1aT02saFTiwK",
        "colab_type": "code",
        "colab": {}
      },
      "source": [
        "cantidad=1000\n",
        "\n",
        "def CongruencialMixto2(cantidad):\n",
        "  a = 75\n",
        "  m = (2**16)+1\n",
        "  x0 = 6773\n",
        "  xn=x0\n",
        "  memoria = []\n",
        "  \n",
        "  for i in range (cantidad):\n",
        "    xsig=((a*xn))%m\n",
        "    xn=xsig\n",
        "    usig=xn/m\n",
        "    un=usig\n",
        "    #print(\"u\",i+1,\"=\",usig)\n",
        "    memoria.append(usig)"
      ],
      "execution_count": 11,
      "outputs": []
    },
    {
      "cell_type": "code",
      "metadata": {
        "id": "hJB4M596psYC",
        "colab_type": "code",
        "colab": {
          "base_uri": "https://localhost:8080/",
          "height": 34
        },
        "outputId": "c8e271a3-7dd9-4d9d-c56f-42ba4a2829df"
      },
      "source": [
        "def chiCuadrado(k,generador):\n",
        "    k = 101\n",
        "    ei = cantidad/k\n",
        "    f=[0]*k\n",
        "    suma = 0\n",
        "    for i in range(k):\n",
        "        suma += ((f[i] - ei) ** 2) / ei\n",
        "    return suma\n",
        "print(\"El valor Chi-cuadrado del generador congruencial es: \", chiCuadrado(101, CongruencialMixto2(cantidad)))"
      ],
      "execution_count": 12,
      "outputs": [
        {
          "output_type": "stream",
          "text": [
            "El valor Chi-cuadrado del generador congruencial es:  999.9999999999973\n"
          ],
          "name": "stdout"
        }
      ]
    },
    {
      "cell_type": "markdown",
      "metadata": {
        "id": "Wxzu0PlKTjE8",
        "colab_type": "text"
      },
      "source": [
        "**c)** $x_0=179, x_n = (5x_{n-1}+7) \\mod 200$"
      ]
    },
    {
      "cell_type": "code",
      "metadata": {
        "id": "MUDytp0cTlBa",
        "colab_type": "code",
        "colab": {}
      },
      "source": [
        "cantidad=1000\n",
        "\n",
        "def CongruencialMixto3(cantidad):\n",
        "  a = 5\n",
        "  m = 200\n",
        "  x0 = 179\n",
        "  xn=x0\n",
        "  memoria = []\n",
        "  \n",
        "  for i in range (cantidad):\n",
        "    xsig=((a*xn)+7)%m\n",
        "    xn=xsig\n",
        "    usig=xn/m\n",
        "    un=usig\n",
        "    #print(\"u\",i+1,\"=\",usig)\n",
        "    memoria.append(usig)"
      ],
      "execution_count": 13,
      "outputs": []
    },
    {
      "cell_type": "code",
      "metadata": {
        "id": "BpNu07VZptPP",
        "colab_type": "code",
        "colab": {
          "base_uri": "https://localhost:8080/",
          "height": 34
        },
        "outputId": "b0ff1004-87a8-41b3-a5f6-ad0424455dc4"
      },
      "source": [
        "def chiCuadrado(k,generador):\n",
        "    k = 101\n",
        "    ei = cantidad/k\n",
        "    f=[0]*k\n",
        "    suma = 0\n",
        "    for i in range(k):\n",
        "        suma += ((f[i] - ei) ** 2) / ei\n",
        "    return suma\n",
        "print(\"El valor Chi-cuadrado del generador congruencial es: \", chiCuadrado(101, CongruencialMixto3(cantidad)))"
      ],
      "execution_count": 14,
      "outputs": [
        {
          "output_type": "stream",
          "text": [
            "El valor Chi-cuadrado del generador congruencial es:  999.9999999999973\n"
          ],
          "name": "stdout"
        }
      ]
    },
    {
      "cell_type": "markdown",
      "metadata": {
        "id": "TCRSM7MW6dM-",
        "colab_type": "text"
      },
      "source": [
        "## 3.  (1.0 punto)\n",
        "Implemente un sistema de cola simple de clientes atendidos por un cajero de un banco, similar al ejemplo de simulación Ad Hoc del Taller 0 o el punto 10 del Taller 1, generando las variables aleatorias discretas tanto del número de minutos entre las llegadas de un cliente y otro al banco ($X$), así como del numero de minutos que le toma al cajero atender un cliente ($Y$) para un total de **200 clientes**, donde: <br><br>\n",
        "$X$ es una distribución de Poisson con $\\lambda = 10$<br>\n",
        "$Y$ es una distribución de probabilidad discreta así:<br>\n",
        "$Y = [1, 2, 3, 4, 5, 6, 7, 8, 9, 10, 11, 12, 13, 14, 15]$<br>\n",
        "$p(Y) = [0.01, 0.02, 0.02, 0.02, 0.02, 0.025, 0.03, 0.05, 0.08, 0.09, 0.11, 0.15, 0.2, 0.125, 0.05]$<br><br>\n",
        "\n",
        "Calcular:<br>\n",
        "**a)** Tiempo promedio en el sistema<br>\n",
        "**b)** Porcentaje de tiempo libre del servidor<br>\n",
        "**c)** Promedio de tiempo de espera por cliente<br>\n",
        "**d)** Fracción de clientes que estuvieron esperando<br>\n",
        "**e)** Promedio de tiempo de espera de los clientes que esperaron en cola<br>"
      ]
    },
    {
      "cell_type": "code",
      "metadata": {
        "id": "4IOxlexH4d5V",
        "colab_type": "code",
        "colab": {}
      },
      "source": [
        ""
      ],
      "execution_count": null,
      "outputs": []
    },
    {
      "cell_type": "markdown",
      "metadata": {
        "id": "aVbse_tu6SBN",
        "colab_type": "text"
      },
      "source": [
        "## 4.  (1.0 punto)\n",
        "Tomando como base la implementación de un sistema de linea de espera con un servidor (<a href=\"https://colab.research.google.com/drive/1Ff8QcrO8vFyNp3BGU7JHHk9mWH9NO8HL?usp=sharing\">Notebook</a>), con las mismas semillas y generadores congruenciales, determine las medidas de desempeño si la variable aleatoria $Y$ correspondiente al tiempo de servicio se comporta como una distribución binomial con parámetros $n=20$ y $p=0.5$ "
      ]
    },
    {
      "cell_type": "code",
      "metadata": {
        "id": "JQRNZV5qBDke",
        "colab_type": "code",
        "colab": {}
      },
      "source": [
        ""
      ],
      "execution_count": null,
      "outputs": []
    },
    {
      "cell_type": "markdown",
      "metadata": {
        "id": "D6i0hqZH6NMW",
        "colab_type": "text"
      },
      "source": [
        "## 5.  (1.0 punto)\n",
        "Usando el ejemplo de SimPy de abajo de una conferencia que incluye buffet (refrigerio) con un tiempo máximo de simulación de 4 horas (i.e. 240 minutos) modifique el código para:\n",
        "\n",
        "**a)** Implementar las medidas de desempeño de hambre promedio y conocimiento promedio.<br>\n",
        "**b)** Comparar y analizar los siguientes escenarios a partir de las medidas de desempeño implementadas indicando cual escenario es mejor:\n",
        "\n",
        "> 1. Duración de la charla 15 minutos, 4 charlas por sesión, 15 minutos de break, 2 puestos de buffet y 3 minutos por turno para comer en el buffet\n",
        "> 2. Duración de la charla 20 minutos, 4 charlas por sesión, 10 minutos de break, 2 puestos de buffet y 3 minutos por turno para comer en el buffet\n",
        "> 3. Duración de la charla 15 minutos, 4 charlas por sesión, 20 minutos de break, 1 puestos de buffet y 3 minutos por turno para comer en el buffet\n",
        "\n",
        "**c)** Implemente una configuración que garantice que el conocimiento promedio adquirido por los asistentes sea mayor de 3 y el hambre promedio sea menor a 2."
      ]
    },
    {
      "cell_type": "code",
      "metadata": {
        "id": "_5ZUQ92s6wQZ",
        "colab_type": "code",
        "colab": {}
      },
      "source": [
        "!pip install simpy\n",
        "import simpy"
      ],
      "execution_count": null,
      "outputs": []
    },
    {
      "cell_type": "code",
      "metadata": {
        "id": "cnWJq7SO6j9e",
        "colab_type": "code",
        "colab": {}
      },
      "source": [
        "from random import randint\n",
        "import simpy "
      ],
      "execution_count": null,
      "outputs": []
    },
    {
      "cell_type": "code",
      "metadata": {
        "id": "w1yIh5KG6l2B",
        "colab_type": "code",
        "colab": {}
      },
      "source": [
        "TALKS_PER_SESSION = 3\n",
        "TALK_LENGTH = 30\n",
        "BREAK_LENGTH = 15\n",
        "DURATION_EAT = 3\n",
        "BUFFET_SLOTS = 2"
      ],
      "execution_count": null,
      "outputs": []
    },
    {
      "cell_type": "code",
      "metadata": {
        "id": "dsNLHwHW6nvh",
        "colab_type": "code",
        "colab": {}
      },
      "source": [
        "def attendee(env, name, buffet, knowledge=0, hunger=0):\n",
        "  while True:\n",
        "    # Visit talks\n",
        "    for i in range(TALKS_PER_SESSION):\n",
        "      knowledge = knowledge + randint(0, 3) / (1 + hunger)\n",
        "      hunger = hunger + randint(1, 4)\n",
        "      yield env.timeout(TALK_LENGTH)\n",
        "    print('El asistente %s terminó las charlas con un conocimiento %.2f y hambre '\n",
        "    '%.2f.' % (name, knowledge, hunger))\n",
        "\n",
        "    # Go to buffet\n",
        "    start = env.now\n",
        "    with buffet.request() as req:\n",
        "      yield req | env.timeout(BREAK_LENGTH - DURATION_EAT)\n",
        "      time_left = BREAK_LENGTH - (env.now - start)\n",
        "      \n",
        "      if req.triggered:\n",
        "        food = min(randint(3, 12), time_left) # Less time -> less food\n",
        "        yield env.timeout(DURATION_EAT)\n",
        "        hunger -= min(food, hunger)\n",
        "        time_left -= DURATION_EAT\n",
        "        print('El asistente %s terminó de comer con hambre %.2f' %\n",
        "              (name, hunger))\n",
        "      else:\n",
        "        hunger += 1 # Penalty for only taking a look at all the food.\n",
        "        print('El asistente %s no llegó al buffet :( , el hambre es ahora '\n",
        "        'at %.2f.' % (name, hunger))\n",
        "    yield env.timeout(time_left)"
      ],
      "execution_count": null,
      "outputs": []
    },
    {
      "cell_type": "code",
      "metadata": {
        "id": "wQZQGTMn6pG2",
        "colab_type": "code",
        "colab": {}
      },
      "source": [
        "env = simpy.Environment()\n",
        "buffet = simpy.Resource(env, capacity=BUFFET_SLOTS)\n",
        "for i in range(5):\n",
        "  env.process(attendee(env, i, buffet))\n",
        "env.run(until=220)"
      ],
      "execution_count": null,
      "outputs": []
    }
  ]
}